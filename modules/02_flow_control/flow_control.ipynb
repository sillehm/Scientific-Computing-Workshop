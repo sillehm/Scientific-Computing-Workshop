{
 "cells": [
  {
   "cell_type": "code",
   "execution_count": 1,
   "metadata": {},
   "outputs": [
    {
     "name": "stdout",
     "output_type": "stream",
     "text": [
      "Index:0, Value:0\n",
      "Index:1, Value:1\n",
      "Index:2, Value:2\n",
      "Index:3, Value:3\n",
      "Index:4, Value:4\n",
      "Index:5, Value:5\n",
      "Index:6, Value:6\n",
      "Index:7, Value:7\n",
      "Index:8, Value:8\n",
      "Index:9, Value:9\n",
      "Index:0, Value:0\n",
      "Index:1, Value:2\n",
      "Index:2, Value:4\n",
      "Index:3, Value:6\n",
      "Index:4, Value:8\n"
     ]
    }
   ],
   "source": [
    "# Enumerate()\n",
    "for idx,i in enumerate(range(0,10)):\n",
    "    print(f\"Index:{idx}, Value:{i}\")\n",
    "\n",
    "for idx,i in enumerate(range(0,10,2)):\n",
    "    print(f\"Index:{idx}, Value:{i}\")"
   ]
  },
  {
   "cell_type": "code",
   "execution_count": 4,
   "metadata": {},
   "outputs": [],
   "source": [
    "# importing packages\n",
    "import os\n",
    "inpath = os.path.join(\"data\")\n",
    "folder = os.listdir(inpath)"
   ]
  },
  {
   "cell_type": "markdown",
   "metadata": {},
   "source": [
    "### Task \n",
    "\n",
    "Create a function which does the following:\n",
    "\n",
    "Task 1\n",
    "\n",
    "Take the list of user_data\n",
    "\n",
    "Go through each entry in the list\n",
    "\n",
    "Add to dictionary\n",
    "key = name : values = (age, height)"
   ]
  },
  {
   "cell_type": "code",
   "execution_count": 5,
   "metadata": {},
   "outputs": [],
   "source": [
    "user_data = [\n",
    "    [\"Ross\", 31, 1.8],\n",
    "    [\"Rachel\", 29, 1.6],\n",
    "    [\"Joey\", 32, 1.9],\n",
    "    [\"Phoebe\", 30, 1.7],\n",
    "    [\"Chandler\", 33, 1.75],\n",
    "    [\"Monica\", 28, 1.65]\n",
    "]"
   ]
  },
  {
   "cell_type": "code",
   "execution_count": 26,
   "metadata": {},
   "outputs": [],
   "source": [
    "def user_dict_fun(user_data):\n",
    "\n",
    "    user_dict = {}\n",
    "\n",
    "    for user in user_data:\n",
    "        key = user[0]\n",
    "        values = user[1:]\n",
    "        user_dict[key] = values\n",
    "    return user_dict"
   ]
  },
  {
   "cell_type": "code",
   "execution_count": 28,
   "metadata": {},
   "outputs": [
    {
     "name": "stdout",
     "output_type": "stream",
     "text": [
      "{'Ross': [31, 1.8], 'Rachel': [29, 1.6], 'Joey': [32, 1.9], 'Phoebe': [30, 1.7], 'Chandler': [33, 1.75], 'Monica': [28, 1.65]}\n"
     ]
    }
   ],
   "source": [
    "x = user_dict_fun(user_data)\n",
    "print(x)    "
   ]
  },
  {
   "cell_type": "markdown",
   "metadata": {},
   "source": [
    "Task 1.1\n",
    "\n",
    "Create a function that will do this for any similar list"
   ]
  },
  {
   "cell_type": "code",
   "execution_count": 29,
   "metadata": {},
   "outputs": [],
   "source": [
    "def user_dict_fun(list):\n",
    "\n",
    "    dict = {}\n",
    "\n",
    "    for user in list:\n",
    "        key = user[0]\n",
    "        values = user[1:]\n",
    "        dict[key] = values\n",
    "    return dict"
   ]
  },
  {
   "cell_type": "code",
   "execution_count": 30,
   "metadata": {},
   "outputs": [
    {
     "name": "stdout",
     "output_type": "stream",
     "text": [
      "{'Ross': [31, 1.8], 'Rachel': [29, 1.6], 'Joey': [32, 1.9], 'Phoebe': [30, 1.7], 'Chandler': [33, 1.75], 'Monica': [28, 1.65]}\n"
     ]
    }
   ],
   "source": [
    "print(user_dict_fun(user_data))"
   ]
  },
  {
   "cell_type": "markdown",
   "metadata": {},
   "source": [
    "Task 2\n",
    "\n",
    "Take the list of bad_user_data\n",
    "Go through each entry in the list\n",
    "* If first entry is not string:\n",
    "    * Raise an error and continue\n",
    "* If first entry is a string\n",
    "    * Add to dictionary\n",
    "        * key = name : values = (age, height)"
   ]
  },
  {
   "cell_type": "code",
   "execution_count": 53,
   "metadata": {},
   "outputs": [],
   "source": [
    "bad_user_data = [\n",
    "    [\"Ross\", 31, 1.8],\n",
    "    [\"Rachel\", 29, 1.6],\n",
    "    [\"Joey\", 32, 1.9],\n",
    "    [\"Phoebe\", 30, 1.7],\n",
    "    [\"Chandler\", 33, 1.75],\n",
    "    [\"Monica\", 28, 1.65],\n",
    "    [1, 2, 3],\n",
    "    [30, 1.7],\n",
    "    [\"Janice\", 33, 1.75],\n",
    "    [\"Richard\", 28, 1.65]\n",
    "]"
   ]
  },
  {
   "cell_type": "code",
   "execution_count": 41,
   "metadata": {},
   "outputs": [
    {
     "name": "stdout",
     "output_type": "stream",
     "text": [
      "First entry is not a string\n",
      "First entry is not a string\n"
     ]
    },
    {
     "data": {
      "text/plain": [
       "{'Ross': [31, 1.8],\n",
       " 'Rachel': [29, 1.6],\n",
       " 'Joey': [32, 1.9],\n",
       " 'Phoebe': [30, 1.7],\n",
       " 'Chandler': [33, 1.75],\n",
       " 'Monica': [28, 1.65],\n",
       " 'Janice': [33, 1.75],\n",
       " 'Richard': [28, 1.65]}"
      ]
     },
     "execution_count": 41,
     "metadata": {},
     "output_type": "execute_result"
    }
   ],
   "source": [
    "dict = {}\n",
    "for i in bad_user_data:\n",
    "    if type(i[0]) == str:\n",
    "        key = i[0]\n",
    "        values = i[1:]\n",
    "        dict[key] = values\n",
    "    else:\n",
    "        print(\"First entry is not a string\")\n",
    "\n",
    "dict\n"
   ]
  },
  {
   "cell_type": "code",
   "execution_count": 60,
   "metadata": {},
   "outputs": [
    {
     "name": "stdout",
     "output_type": "stream",
     "text": [
      "First entry is not a string\n",
      "First entry is not a string\n",
      "{'Ross': [31, 1.8], 'Rachel': [29, 1.6], 'Joey': [32, 1.9], 'Phoebe': [30, 1.7], 'Chandler': [33, 1.75], 'Monica': [28, 1.65], 'Janice': [33, 1.75], 'Richard': [28, 1.65]}\n"
     ]
    }
   ],
   "source": [
    "def better_user_dict_fun(list):\n",
    "\n",
    "    dict = {}\n",
    "# \n",
    "    for i in list:\n",
    "        if type(i[0]) == str:\n",
    "            key = i[0]\n",
    "            values = i[1:]\n",
    "            dict[key] = values\n",
    "        else:\n",
    "            print(\"First entry is not a string\")\n",
    "    \n",
    "    return dict\n",
    "\n",
    "print(better_user_dict_fun(bad_user_data))"
   ]
  },
  {
   "cell_type": "markdown",
   "metadata": {},
   "source": []
  },
  {
   "cell_type": "code",
   "execution_count": 46,
   "metadata": {},
   "outputs": [
    {
     "name": "stdout",
     "output_type": "stream",
     "text": [
      "First entry is not a string\n",
      "First entry is not a string\n",
      "{'Ross': [31, 1.8], 'Rachel': [29, 1.6], 'Joey': [32, 1.9], 'Phoebe': [30, 1.7], 'Chandler': [33, 1.75], 'Monica': [28, 1.65], 'Janice': [33, 1.75], 'Richard': [28, 1.65]}\n"
     ]
    }
   ],
   "source": [
    "print(better_user_dict_fun(bad_user_data))"
   ]
  },
  {
   "cell_type": "markdown",
   "metadata": {},
   "source": [
    "Task 3\n",
    "\n",
    "Go to the folder called \"data\"\n",
    "For each file in a sorted list\n",
    "* check it is a csv\n",
    "* print the index and the filename\n",
    "* create a dictionary where keys=index and values = filename\n",
    "* return the dictionary to a variable"
   ]
  },
  {
   "cell_type": "code",
   "execution_count": 51,
   "metadata": {},
   "outputs": [],
   "source": [
    "def data_dict(inpath:str):\n",
    "\n",
    "    #empty dictionary\n",
    "    dict = {}\n",
    "    \n",
    "    # list of all files in directory\n",
    "    folder = os.listdir(inpath)\n",
    "\n",
    "    # looping over index and filename for each file\n",
    "    for idx, file in enumerate(sorted(folder)):\n",
    "        if file.endswith(\".csv\"):\n",
    "            print(f\"Working on {idx} called {file}\")\n",
    "\n",
    "            # update dictionary with index(idx) as keys and filename as values\n",
    "            dict[idx] =file\n",
    "        \n",
    "        # ignore if it is not a .csv\n",
    "        else:\n",
    "            pass\n",
    "    return dict"
   ]
  },
  {
   "cell_type": "code",
   "execution_count": 52,
   "metadata": {},
   "outputs": [
    {
     "name": "stdout",
     "output_type": "stream",
     "text": [
      "Working on 1 called height-weight.csv\n",
      "Working on 2 called inflammation-01.csv\n",
      "Working on 3 called inflammation-02.csv\n",
      "Working on 4 called inflammation-03.csv\n",
      "Working on 5 called inflammation-04.csv\n",
      "Working on 6 called inflammation-05.csv\n",
      "Working on 7 called inflammation-06.csv\n",
      "Working on 8 called inflammation-07.csv\n",
      "Working on 9 called inflammation-08.csv\n",
      "Working on 10 called inflammation-09.csv\n",
      "Working on 11 called inflammation-10.csv\n",
      "Working on 12 called inflammation-11.csv\n",
      "Working on 13 called inflammation-12.csv\n",
      "Working on 14 called scottish_hills.csv\n",
      "{1: 'height-weight.csv', 2: 'inflammation-01.csv', 3: 'inflammation-02.csv', 4: 'inflammation-03.csv', 5: 'inflammation-04.csv', 6: 'inflammation-05.csv', 7: 'inflammation-06.csv', 8: 'inflammation-07.csv', 9: 'inflammation-08.csv', 10: 'inflammation-09.csv', 11: 'inflammation-10.csv', 12: 'inflammation-11.csv', 13: 'inflammation-12.csv', 14: 'scottish_hills.csv'}\n"
     ]
    }
   ],
   "source": [
    "print(data_dict(\"data\"))"
   ]
  },
  {
   "cell_type": "code",
   "execution_count": null,
   "metadata": {},
   "outputs": [],
   "source": []
  }
 ],
 "metadata": {
  "kernelspec": {
   "display_name": "Python 3",
   "language": "python",
   "name": "python3"
  },
  "language_info": {
   "codemirror_mode": {
    "name": "ipython",
    "version": 3
   },
   "file_extension": ".py",
   "mimetype": "text/x-python",
   "name": "python",
   "nbconvert_exporter": "python",
   "pygments_lexer": "ipython3",
   "version": "3.10.12"
  },
  "orig_nbformat": 4
 },
 "nbformat": 4,
 "nbformat_minor": 2
}
