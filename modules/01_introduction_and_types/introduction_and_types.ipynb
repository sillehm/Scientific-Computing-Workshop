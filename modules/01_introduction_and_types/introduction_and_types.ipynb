{
 "cells": [
  {
   "cell_type": "code",
   "execution_count": 1,
   "metadata": {},
   "outputs": [
    {
     "name": "stdout",
     "output_type": "stream",
     "text": [
      "I\n"
     ]
    }
   ],
   "source": [
    "# Define a string variable\n",
    "text_snippet = \"It was the best of times, it was the worst of times\"\n",
    "# Return first character\n",
    "print(text_snippet[0])"
   ]
  },
  {
   "cell_type": "code",
   "execution_count": 2,
   "metadata": {},
   "outputs": [],
   "source": [
    "# same types\n",
    "colours = [\"blue\", \"green\", \"red\"]\n",
    "# different types - name, age, height\n",
    "user_data = [\"mary\", 42, 1.65]\n",
    "# lists can be embedded (yuck)\n",
    "big_list = [user_data, colours]"
   ]
  },
  {
   "cell_type": "code",
   "execution_count": 4,
   "metadata": {},
   "outputs": [
    {
     "data": {
      "text/plain": [
       "False"
      ]
     },
     "execution_count": 4,
     "metadata": {},
     "output_type": "execute_result"
    }
   ],
   "source": [
    "big_list == user_data + colours\n",
    "[user_data, colours] == [colours, user_data]"
   ]
  },
  {
   "cell_type": "code",
   "execution_count": 5,
   "metadata": {},
   "outputs": [
    {
     "data": {
      "text/plain": [
       "['mary', 42, 1.65, 'blue', 'green', 'red']"
      ]
     },
     "execution_count": 5,
     "metadata": {},
     "output_type": "execute_result"
    }
   ],
   "source": [
    "user_data + colours"
   ]
  },
  {
   "cell_type": "code",
   "execution_count": 6,
   "metadata": {},
   "outputs": [
    {
     "data": {
      "text/plain": [
       "[['mary', 42, 1.65], ['blue', 'green', 'red']]"
      ]
     },
     "execution_count": 6,
     "metadata": {},
     "output_type": "execute_result"
    }
   ],
   "source": [
    "big_list"
   ]
  },
  {
   "cell_type": "markdown",
   "metadata": {},
   "source": [
    "Exercise!\n",
    "Find fifth word in a sentence. (Str->List, index list)"
   ]
  },
  {
   "cell_type": "code",
   "execution_count": 7,
   "metadata": {},
   "outputs": [],
   "source": [
    "sentence = \"I biked to katrinebjerg today even though I had class at Nobelparken\""
   ]
  },
  {
   "cell_type": "code",
   "execution_count": 9,
   "metadata": {},
   "outputs": [
    {
     "name": "stdout",
     "output_type": "stream",
     "text": [
      "today\n"
     ]
    }
   ],
   "source": [
    "# use split to create a list of the words in the sentence excluding space\n",
    "print(sentence.split()[4])"
   ]
  },
  {
   "cell_type": "code",
   "execution_count": 10,
   "metadata": {},
   "outputs": [
    {
     "name": "stdout",
     "output_type": "stream",
     "text": [
      "<class 'list'>\n"
     ]
    }
   ],
   "source": [
    "# check type of sorted tuple...\n",
    "colours = (\"red\", \"green\", \"blue\")\n",
    "print(type(sorted(colours)))"
   ]
  },
  {
   "cell_type": "markdown",
   "metadata": {},
   "source": [
    "Exercise!\n",
    "Create a tuple comprising the first, fifth and last word of the text_snippet"
   ]
  },
  {
   "cell_type": "code",
   "execution_count": 11,
   "metadata": {},
   "outputs": [],
   "source": [
    "# Define a string variable\n",
    "text_snippet = \"It was the best of times, it was the worst of times\""
   ]
  },
  {
   "cell_type": "code",
   "execution_count": 13,
   "metadata": {},
   "outputs": [
    {
     "name": "stdout",
     "output_type": "stream",
     "text": [
      "('It', 'of', 'times')\n",
      "<class 'tuple'>\n"
     ]
    }
   ],
   "source": [
    "text_list = text_snippet.split()\n",
    "tup = (text_list[0], text_list[4], text_list[-1])\n",
    "print(tup)\n",
    "print(type(tup))"
   ]
  },
  {
   "cell_type": "code",
   "execution_count": 17,
   "metadata": {},
   "outputs": [
    {
     "name": "stdout",
     "output_type": "stream",
     "text": [
      "42\n"
     ]
    }
   ],
   "source": [
    "# dictionary of users\n",
    "users = {\"mary\" : 42, \"john\" : 31}\n",
    "# get value for Mary\n",
    "print(users[\"mary\"])\n",
    "# add new user\n",
    "users[\"adam\"] = 50"
   ]
  },
  {
   "cell_type": "markdown",
   "metadata": {},
   "source": [
    "Exercise!\n",
    "Create a dict with the following key-value pairs - mary=(42,1.65), john=(50,1.8), adam=(32,1.83) Print Adam's height"
   ]
  },
  {
   "cell_type": "code",
   "execution_count": 20,
   "metadata": {},
   "outputs": [
    {
     "name": "stdout",
     "output_type": "stream",
     "text": [
      "1.82\n"
     ]
    }
   ],
   "source": [
    "# dictionary of users\n",
    "users = {\"mary\" : (42, 1.65), \n",
    "        \"john\" : (50, 1.8),\n",
    "        \"adam\" : (32, 1.82)}\n",
    "\n",
    "print(users[\"adam\"][1])\n",
    "\n",
    "\n"
   ]
  },
  {
   "cell_type": "code",
   "execution_count": 22,
   "metadata": {},
   "outputs": [
    {
     "name": "stdout",
     "output_type": "stream",
     "text": [
      "{'mary': (42, 1.65), 'john': (50, 1.8), 'adam': (32, 1.83)}\n",
      "Adam is 32 years old\n"
     ]
    }
   ],
   "source": [
    "# using a different syntax\n",
    "new_users = dict(mary=(42,1.65), john=(50,1.8), adam=(32,1.83))\n",
    "print(new_users)\n",
    "# get adam's age\n",
    "print(f'Adam is {new_users[\"adam\"][0]} years old')"
   ]
  },
  {
   "cell_type": "code",
   "execution_count": 23,
   "metadata": {},
   "outputs": [
    {
     "name": "stdout",
     "output_type": "stream",
     "text": [
      "{'mary', 'anne', 'john'}\n",
      "{'red', 'blue', 'green'}\n"
     ]
    }
   ],
   "source": [
    "# list\n",
    "student_names = [\"mary\", \"anne\", \"john\", \"anne\"]\n",
    "print(set(student_names))\n",
    "\n",
    "# tuples\n",
    "print(set(colours))"
   ]
  }
 ],
 "metadata": {
  "kernelspec": {
   "display_name": "Python 3",
   "language": "python",
   "name": "python3"
  },
  "language_info": {
   "codemirror_mode": {
    "name": "ipython",
    "version": 3
   },
   "file_extension": ".py",
   "mimetype": "text/x-python",
   "name": "python",
   "nbconvert_exporter": "python",
   "pygments_lexer": "ipython3",
   "version": "3.10.12"
  },
  "orig_nbformat": 4
 },
 "nbformat": 4,
 "nbformat_minor": 2
}
