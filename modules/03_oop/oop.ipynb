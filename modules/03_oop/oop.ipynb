{
 "cells": [
  {
   "cell_type": "markdown",
   "metadata": {},
   "source": [
    "#### Classes"
   ]
  },
  {
   "cell_type": "code",
   "execution_count": 2,
   "metadata": {},
   "outputs": [],
   "source": [
    "# creating a persons class \n",
    "# with _ _init_ _ function, initiating the class, \n",
    "# and the methods welcome and describe\n",
    "class Person:\n",
    "    species = \"Homo sapiens\"\n",
    "    def __init__(self, name, age):\n",
    "        self.name = name\n",
    "        self.age = age\n",
    "\n",
    "    def welcome(self):\n",
    "        print(f\"Hello, my name is {self.name}!\")\n",
    "\n",
    "    def describe(self):\n",
    "        print(f\"I am a {self.age} year old member of the species {self.species}\")"
   ]
  },
  {
   "cell_type": "code",
   "execution_count": 5,
   "metadata": {},
   "outputs": [
    {
     "name": "stdout",
     "output_type": "stream",
     "text": [
      "Hello, my name is Sille!\n",
      "I am a 24 year old member of the species Homo sapiens\n"
     ]
    }
   ],
   "source": [
    "sille = Person(\"Sille\", 24)\n",
    "sille.welcome()\n",
    "sille.describe()"
   ]
  },
  {
   "cell_type": "code",
   "execution_count": 31,
   "metadata": {},
   "outputs": [
    {
     "name": "stdout",
     "output_type": "stream",
     "text": [
      "True\n"
     ]
    }
   ],
   "source": [
    "is_it_a_person = type(sille) == Person\n",
    "print(is_it_a_person)"
   ]
  },
  {
   "cell_type": "markdown",
   "metadata": {},
   "source": [
    "##### Exercise 1! \n",
    "Create a class Table which takes in two list of values (columns). One of names and one of ages."
   ]
  },
  {
   "cell_type": "code",
   "execution_count": 28,
   "metadata": {},
   "outputs": [],
   "source": [
    "class Table:\n",
    "\n",
    "    def __init__(self, names, ages):\n",
    "        self.names = names\n",
    "        self.ages = ages\n",
    "    \n",
    "    def mean_age(self):\n",
    "        # take the sum of the ages list divided by the length of the ages list\n",
    "        return sum(self.ages)/len(self.ages)\n",
    "\n",
    "    def get_age_of(self,name):\n",
    "        # finding the the index for the name\n",
    "        index = self.names.index(name)\n",
    "        # returning the age with the same index as the name\n",
    "        return self.ages[index]\n",
    "    \n",
    "    # def print_table(self):"
   ]
  },
  {
   "cell_type": "code",
   "execution_count": 24,
   "metadata": {},
   "outputs": [],
   "source": [
    "table_obj = Table(names = [\"kenneth\", \"anders\", \"scott\"], ages = [28, 32, 5]) "
   ]
  },
  {
   "cell_type": "code",
   "execution_count": 17,
   "metadata": {},
   "outputs": [
    {
     "name": "stdout",
     "output_type": "stream",
     "text": [
      "21.666666666666668\n"
     ]
    }
   ],
   "source": [
    "print(table_obj.mean_age())"
   ]
  },
  {
   "cell_type": "code",
   "execution_count": 18,
   "metadata": {},
   "outputs": [
    {
     "name": "stdout",
     "output_type": "stream",
     "text": [
      "32\n"
     ]
    }
   ],
   "source": [
    "print(table_obj.get_age_of(\"anders\"))"
   ]
  },
  {
   "cell_type": "code",
   "execution_count": null,
   "metadata": {},
   "outputs": [],
   "source": []
  }
 ],
 "metadata": {
  "kernelspec": {
   "display_name": "Python 3",
   "language": "python",
   "name": "python3"
  },
  "language_info": {
   "codemirror_mode": {
    "name": "ipython",
    "version": 3
   },
   "file_extension": ".py",
   "mimetype": "text/x-python",
   "name": "python",
   "nbconvert_exporter": "python",
   "pygments_lexer": "ipython3",
   "version": "3.10.12"
  },
  "orig_nbformat": 4
 },
 "nbformat": 4,
 "nbformat_minor": 2
}
